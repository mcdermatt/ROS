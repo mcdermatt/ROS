{
 "cells": [
  {
   "cell_type": "markdown",
   "id": "ee5020cc",
   "metadata": {},
   "source": [
    "# Simple demo of ICET point cloud registration"
   ]
  },
  {
   "cell_type": "code",
   "execution_count": null,
   "id": "570b0147",
   "metadata": {},
   "outputs": [],
   "source": [
    "from vedo import *\n",
    "import os\n",
    "from ipyvtklink.viewer import ViewInteractiveWidget\n",
    "import pykitti\n",
    "import numpy as np\n",
    "import tensorflow as tf\n",
    "\n",
    "#limit GPU memory ------------------------------------------------\n",
    "gpus = tf.config.experimental.list_physical_devices('GPU')\n",
    "print(gpus)\n",
    "if gpus:\n",
    "  try:\n",
    "    memlim = 12*1024\n",
    "    tf.config.experimental.set_virtual_device_configuration(gpus[0], [tf.config.experimental.VirtualDeviceConfiguration(memory_limit=memlim)])\n",
    "  except RuntimeError as e:\n",
    "    print(e)\n",
    "#-----------------------------------------------------------------\n",
    "\n",
    "from tensorflow.math import sin, cos, tan\n",
    "import tensorflow_probability as tfp\n",
    "from ICET_spherical import ICET\n",
    "from utils import R_tf\n",
    "# from metpy.calc import lat_lon_grid_deltas\n",
    "%load_ext autoreload\n",
    "%autoreload 2\n",
    "%autosave 180\n",
    "# %matplotlib notebook\n"
   ]
  },
  {
   "cell_type": "code",
   "execution_count": null,
   "id": "1592fba6",
   "metadata": {
    "scrolled": false
   },
   "outputs": [],
   "source": [
    "basepath = '/media/derm/06EF-127D2/KITTI'\n",
    "# sequence = '03' #forest\n",
    "sequence = '09' #trees and small town\n",
    "dataset = pykitti.odometry(basepath, sequence)\n",
    "velo1 = dataset.get_velo(400)\n",
    "c1 = velo1[:,:3]\n",
    "velo2 = dataset.get_velo(401)\n",
    "c2 = velo2[:,:3]\n",
    "\n",
    "it = ICET(cloud1 = c1, cloud2 = c2, fid = 50, niter = 5, \n",
    "           draw = False, group = 2, RM = True, DNN_filter = False)\n",
    "# ViewInteractiveWidget(it.plt.window)\n"
   ]
  },
  {
   "cell_type": "code",
   "execution_count": null,
   "id": "047e0c76",
   "metadata": {},
   "outputs": [],
   "source": [
    "# it.cloud2_static\n",
    "\n",
    "type(it.cloud2_static)\n",
    "\n",
    "# test = it.cloud2_static.to_tensor()\n",
    "\n",
    "# print(np.shape(test))\n",
    "\n",
    "# print(test)\n",
    "\n",
    "# for i in it.cloud2_static:\n",
    "#     print(i)"
   ]
  },
  {
   "cell_type": "code",
   "execution_count": null,
   "id": "0977df6f",
   "metadata": {},
   "outputs": [],
   "source": [
    "print(it.cloud2_static)"
   ]
  },
  {
   "cell_type": "code",
   "execution_count": null,
   "id": "dc1c2f89",
   "metadata": {},
   "outputs": [],
   "source": []
  }
 ],
 "metadata": {
  "kernelspec": {
   "display_name": "Python 3 (ipykernel)",
   "language": "python",
   "name": "python3"
  },
  "language_info": {
   "codemirror_mode": {
    "name": "ipython",
    "version": 3
   },
   "file_extension": ".py",
   "mimetype": "text/x-python",
   "name": "python",
   "nbconvert_exporter": "python",
   "pygments_lexer": "ipython3",
   "version": "3.8.10"
  }
 },
 "nbformat": 4,
 "nbformat_minor": 5
}
